{
 "cells": [
  {
   "cell_type": "code",
   "execution_count": 2,
   "id": "aa71133a",
   "metadata": {},
   "outputs": [],
   "source": [
    "import requests\n",
    "import base64\n",
    "from IPython.display import Image, display"
   ]
  },
  {
   "cell_type": "code",
   "execution_count": 5,
   "id": "ce828c1e-028f-4887-b1cc-2ba1c7d75b5d",
   "metadata": {
    "tags": []
   },
   "outputs": [
    {
     "name": "stdout",
     "output_type": "stream",
     "text": [
      "{'observation_id': '236792d4-4bfd-410f-b424-12efd0e173b6', 'status': 'Initialised Observation Session'}\n",
      "236792d4-4bfd-410f-b424-12efd0e173b6\n"
     ]
    }
   ],
   "source": [
    "host = 'http://friendlyVriApi:8080/api/v1'\n",
    "host = 'http://localhost:8080/api/v1'\n",
    "observation = requests.post(f'{host}/observe/init')\n",
    "print(observation.json())\n",
    "obs_id = observation.json()['observation_id']\n",
    "print(obs_id)"
   ]
  },
  {
   "cell_type": "code",
   "execution_count": 7,
   "id": "e40484ae-dd4f-408c-8f5e-2d59972c4f52",
   "metadata": {
    "tags": []
   },
   "outputs": [
    {
     "name": "stdout",
     "output_type": "stream",
     "text": [
      "{'error': 'observation not found'}\n"
     ]
    }
   ],
   "source": [
    "select_array_response = requests.post(f'{host}/observe/select/{obs_id}/array', json={\n",
    "    'array_config': 'VLA_A',\n",
    "    'hour_angle_start': 6.0,\n",
    "    'hour_angle_end': 6.0,\n",
    "    'sample_rate': 300\n",
    "})\n",
    "array_added = select_array_response.json()\n",
    "print(array_added)"
   ]
  },
  {
   "cell_type": "code",
   "execution_count": null,
   "id": "55a65555-cb88-40aa-8903-e27c6744a565",
   "metadata": {
    "tags": []
   },
   "outputs": [],
   "source": [
    "select_array_response = requests.post(f'{host}/observe/select/{obs_id}/array', json={\n",
    "    'array_config': 'VLA_B',\n",
    "    'hour_angle_start': 6.0,\n",
    "    'hour_angle_end': 6.0,\n",
    "    'sample_rate': 300\n",
    "})\n",
    "array_added = select_array_response.json()\n",
    "print(array_added)"
   ]
  },
  {
   "cell_type": "code",
   "execution_count": null,
   "id": "35c225d5-5627-4a9f-b149-b4ed36d0b1cd",
   "metadata": {
    "tags": []
   },
   "outputs": [],
   "source": [
    "select_obs_options_response = requests.post(f'{host}/observe/select/{obs_id}/options', json={\n",
    "    'freq': 1500,\n",
    "    'src_declination': 20.0\n",
    "})\n",
    "options = select_obs_options_response.json()\n",
    "print(options)"
   ]
  },
  {
   "cell_type": "code",
   "execution_count": null,
   "id": "9001eb55-f2c3-47d0-b4f1-415e171cc1fd",
   "metadata": {
    "tags": []
   },
   "outputs": [],
   "source": [
    "start_obs_run = requests.post(f'{host}/observe/{obs_id}/start/uv_cov')\n",
    "uv_cov_image = start_obs_run.content\n",
    "Image(uv_cov_image)"
   ]
  },
  {
   "cell_type": "code",
   "execution_count": null,
   "id": "a0749709-42e7-4241-8228-7007a424e958",
   "metadata": {},
   "outputs": [],
   "source": [
    "final_obs_run = requests.post(f'{host}/observe/{obs_id}/start/image', json={\n",
    "    'img_path': './vriBackend/tasks/models/galaxy_lobes.png'\n",
    "})\n",
    "final_image = final_obs_run.json()\n",
    "# Image(final_image)"
   ]
  },
  {
   "cell_type": "code",
   "execution_count": null,
   "id": "a97d3a1f",
   "metadata": {},
   "outputs": [],
   "source": [
    "Image(base64.b64decode(final_image['obs_fft_cov']['img_raw']))"
   ]
  },
  {
   "cell_type": "code",
   "execution_count": null,
   "id": "25733aea",
   "metadata": {},
   "outputs": [],
   "source": [
    "Image(base64.b64decode(final_image['synth_beam']['img_raw']))"
   ]
  },
  {
   "cell_type": "code",
   "execution_count": null,
   "id": "42484cc7",
   "metadata": {},
   "outputs": [],
   "source": [
    "Image(base64.b64decode(final_image['final_img']['img_raw']))"
   ]
  }
 ],
 "metadata": {
  "kernelspec": {
   "display_name": "Python 3 (ipykernel)",
   "language": "python",
   "name": "python3"
  },
  "language_info": {
   "codemirror_mode": {
    "name": "ipython",
    "version": 3
   },
   "file_extension": ".py",
   "mimetype": "text/x-python",
   "name": "python",
   "nbconvert_exporter": "python",
   "pygments_lexer": "ipython3",
   "version": "3.11.5"
  }
 },
 "nbformat": 4,
 "nbformat_minor": 5
}
